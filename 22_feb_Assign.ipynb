{
 "cells": [
  {
   "cell_type": "markdown",
   "id": "367123f2-eaeb-4c21-94d9-6b91d99f0fc8",
   "metadata": {},
   "source": [
    "### <b>Question No. 1</b>"
   ]
  },
  {
   "cell_type": "code",
   "execution_count": 1,
   "id": "c3d8e2f4-caee-484a-9386-57143cb8518b",
   "metadata": {},
   "outputs": [
    {
     "name": "stdout",
     "output_type": "stream",
     "text": [
      "https://www.youtube.com/watch?v=brZBO9GFyuk\n",
      "https://www.youtube.com/watch?v=brZBO9GFyuk\n",
      "https://www.youtube.com/watch?v=brZBO9GFyuk\n",
      "https://www.youtube.com/watch?v=brZBO9GFyuk\n",
      "https://www.youtube.com/watch?v=dfqnSgSM8Ok\n"
     ]
    }
   ],
   "source": [
    "import requests\n",
    "from bs4 import BeautifulSoup\n",
    "import re\n",
    "\n",
    "# URL of the YouTube channel\n",
    "url = \"https://www.youtube.com/@PW-Foundation/videos\"\n",
    "\n",
    "# Send a GET request to the URL\n",
    "response = requests.get(url)\n",
    "\n",
    "# Parse the HTML content\n",
    "soup = BeautifulSoup(response.text, \"html.parser\")\n",
    "\n",
    "# Extract video IDs from the page source using regular expressions\n",
    "video_ids = re.findall(r\"videoId\\\":\\\"([^\\\"]+)\\\"\", response.text)\n",
    "\n",
    "# Construct video URLs from the video IDs\n",
    "video_urls = []\n",
    "for video_id in video_ids[:5]:\n",
    "    video_url = f\"https://www.youtube.com/watch?v={video_id}\"\n",
    "    video_urls.append(video_url)\n",
    "\n",
    "# Print the video URLs of the first five videos\n",
    "for url in video_urls:\n",
    "    print(url)\n"
   ]
  },
  {
   "cell_type": "markdown",
   "id": "9adaa4ac-d4a3-4b1c-b2b1-4b61f06b7c42",
   "metadata": {},
   "source": [
    "### <b>Question No. 2"
   ]
  },
  {
   "cell_type": "code",
   "execution_count": 2,
   "id": "681ce68b-a8cd-42f4-86e9-0c49c67c787d",
   "metadata": {},
   "outputs": [
    {
     "name": "stdout",
     "output_type": "stream",
     "text": [
      "Thumbnail URLs of the first five videos:\n",
      "https://i.ytimg.com/vi/brZBO9GFyuk/hqdefault.jpg?sqp=-oaymwEiCKgBEF5IWvKriqkDFQgBFQAAAAAYASUAAMhCPQCAokN4AQ==\\u0026rs=AOn4CLBpXStgcphSv2oJiSe0nUUSt9UD9Q\n",
      "https://i.ytimg.com/vi/dfqnSgSM8Ok/hqdefault.jpg?sqp=-oaymwEiCKgBEF5IWvKriqkDFQgBFQAAAAAYASUAAMhCPQCAokN4AQ==\\u0026rs=AOn4CLCqSjpLinOcui5xNWWQ3bycW3CNRg\n",
      "https://i.ytimg.com/vi/xFPn1edoXCM/hqdefault.jpg?sqp=-oaymwEiCKgBEF5IWvKriqkDFQgBFQAAAAAYASUAAMhCPQCAokN4AQ==\\u0026rs=AOn4CLA--jX_8vbwkiJ_P1Hq37d0Q5_RSg\n",
      "https://i.ytimg.com/vi/0VrTiAxEtsg/hqdefault.jpg?sqp=-oaymwEiCKgBEF5IWvKriqkDFQgBFQAAAAAYASUAAMhCPQCAokN4AQ==\\u0026rs=AOn4CLAtsJ8IqehsrjDYWFYnSTeT0VzGqA\n",
      "https://i.ytimg.com/vi/-XsPRMzUAe8/hqdefault.jpg?sqp=-oaymwEiCKgBEF5IWvKriqkDFQgBFQAAAAAYASUAAMhCPQCAokN4AQ==\\u0026rs=AOn4CLByULcaZ2fnn4jCYCDKylBgM9SO-w\n"
     ]
    }
   ],
   "source": [
    "# Extract thumbnail URLs using regular expressions\n",
    "thumbnail_urls = re.findall(r\"\\\"thumbnail\\\":{\\\"thumbnails\\\":\\[{\\\"url\\\":\\\"(.*?)\\\"\", response.text)\n",
    "\n",
    "# Print the thumbnail URLs of the first five videos\n",
    "print(\"Thumbnail URLs of the first five videos:\")\n",
    "for thumbnail_url in thumbnail_urls[:5]:\n",
    "    print(thumbnail_url)\n"
   ]
  },
  {
   "cell_type": "markdown",
   "id": "64c5cf8b-55ab-4eea-97b3-87d46b83114a",
   "metadata": {},
   "source": [
    "### <b>Question No. 3"
   ]
  },
  {
   "cell_type": "code",
   "execution_count": 3,
   "id": "ed00bf7b-41bf-4fef-be23-d4b58708a536",
   "metadata": {},
   "outputs": [
    {
     "name": "stdout",
     "output_type": "stream",
     "text": [
      "Titles of the first five videos:\n",
      "Complete SCIENCE in Just 7 hours | LAST Minute Revision | Class 10th CBSE Boards\n",
      "Class 10th Maths: Most Important 100 Questions for Board Exams | BOARD Exam 2024 @Class10th-UDAAN\n",
      "Watch This Before BOARD Exam!! 🔥 LAST Minute Tips \\u0026 Revision Strategy\n",
      "We Are Back !! Vishwas Diwas is Here With New PW BATCHES For 9th \\u0026 10th Students 😱 🔥\n",
      "Ritik sir ko Bhoot ne Pakad Liya !!😦\n"
     ]
    }
   ],
   "source": [
    "# Extract video titles using regular expressions\n",
    "titles = re.findall(r\"\\\"title\\\":{\\\"runs\\\":\\[{\\\"text\\\":\\\"(.*?)\\\"}\", response.text)\n",
    "\n",
    "# Print the titles of the first five videos\n",
    "print(\"Titles of the first five videos:\")\n",
    "for title in titles[:5]:\n",
    "    print(title)"
   ]
  },
  {
   "cell_type": "markdown",
   "id": "b83cf481-c324-4334-aa90-46319d1f9741",
   "metadata": {},
   "source": [
    "### <b>Question No. 4"
   ]
  },
  {
   "cell_type": "code",
   "execution_count": 4,
   "id": "f7812dc6-d18b-445d-9141-6b09e0289290",
   "metadata": {},
   "outputs": [
    {
     "name": "stdout",
     "output_type": "stream",
     "text": [
      "View counts of the first five videos:\n",
      "10,536 views\n",
      "18,235 views\n",
      "36,022 views\n",
      "52,081 views\n",
      "14,575 views\n"
     ]
    }
   ],
   "source": [
    "# Extract view counts using regular expressions\n",
    "view_counts = re.findall(r\"\\\"viewCountText\\\":{\\\"simpleText\\\":\\\"(.*?)\\\"\", response.text)\n",
    "\n",
    "# Print the view counts of the first five videos\n",
    "print(\"View counts of the first five videos:\")\n",
    "for view_count in view_counts[:5]:\n",
    "    print(view_count)"
   ]
  },
  {
   "cell_type": "markdown",
   "id": "b96bd76a-053b-4174-ac3a-bf4284c62504",
   "metadata": {},
   "source": [
    "### <b>Question No. 5"
   ]
  },
  {
   "cell_type": "code",
   "execution_count": 5,
   "id": "b208edd0-5ea0-4858-9c85-7d8dbcd1486d",
   "metadata": {
    "scrolled": true
   },
   "outputs": [
    {
     "name": "stdout",
     "output_type": "stream",
     "text": [
      "Time of posting of the first five videos:\n",
      "1 hour ago\n",
      "4 hours ago\n",
      "23 hours ago\n",
      "1 day ago\n",
      "1 day ago\n"
     ]
    }
   ],
   "source": [
    "# Extract time of posting using regular expressions\n",
    "times = re.findall(r\"\\\"publishedTimeText\\\":{\\\"simpleText\\\":\\\"(.*?)\\\"\", response.text)\n",
    "\n",
    "# Print the time of posting of the first five videos\n",
    "print(\"Time of posting of the first five videos:\")\n",
    "for time in times[:5]:\n",
    "    print(time)\n"
   ]
  },
  {
   "cell_type": "code",
   "execution_count": 6,
   "id": "3c652bf4-0271-4a56-8a3b-b76c3ae3285d",
   "metadata": {},
   "outputs": [
    {
     "name": "stdout",
     "output_type": "stream",
     "text": [
      "Data saved to youtube_videos.csv\n"
     ]
    }
   ],
   "source": [
    "import csv\n",
    "import pandas as pd\n",
    "# Save the data to a CSV file\n",
    "with open(\"youtube_videos_pw.csv\", \"w\", newline=\"\", encoding=\"utf-8\") as csv_file:\n",
    "    csv_writer = csv.writer(csv_file)\n",
    "    csv_writer.writerow([\"video_urls\", \"thumbnail_urls\", \"titles\",\"view_counts\", \"Time of Posting\"])\n",
    "    for video_url, thumbnail_url,title, view_count, time in zip(video_urls, thumbnail_urls, titles,view_counts,times):\n",
    "        csv_writer.writerow([video_url, thumbnail_url,title, view_count, time])\n",
    "\n",
    "print(\"Data saved to youtube_videos.csv\")"
   ]
  },
  {
   "cell_type": "code",
   "execution_count": null,
   "id": "8b12a0cc-0284-4f1a-a225-b112845c2eb4",
   "metadata": {},
   "outputs": [],
   "source": []
  }
 ],
 "metadata": {
  "kernelspec": {
   "display_name": "Python 3 (ipykernel)",
   "language": "python",
   "name": "python3"
  },
  "language_info": {
   "codemirror_mode": {
    "name": "ipython",
    "version": 3
   },
   "file_extension": ".py",
   "mimetype": "text/x-python",
   "name": "python",
   "nbconvert_exporter": "python",
   "pygments_lexer": "ipython3",
   "version": "3.10.12"
  }
 },
 "nbformat": 4,
 "nbformat_minor": 5
}
